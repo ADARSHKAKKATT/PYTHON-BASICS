{
 "cells": [
  {
   "cell_type": "code",
   "execution_count": null,
   "id": "37a7befc",
   "metadata": {},
   "outputs": [],
   "source": [
    "l1=[1,2,3,4]\n",
    "l1.count(4)"
   ]
  },
  {
   "cell_type": "code",
   "execution_count": null,
   "id": "4bf9a69f",
   "metadata": {},
   "outputs": [],
   "source": [
    "l1.count(7)"
   ]
  },
  {
   "cell_type": "code",
   "execution_count": null,
   "id": "41d654d1",
   "metadata": {},
   "outputs": [],
   "source": [
    "l1.index(3)"
   ]
  },
  {
   "cell_type": "code",
   "execution_count": null,
   "id": "13e0b2ff",
   "metadata": {},
   "outputs": [],
   "source": [
    "l1.index(7)"
   ]
  },
  {
   "cell_type": "code",
   "execution_count": null,
   "id": "3b8c583f",
   "metadata": {},
   "outputs": [],
   "source": [
    "a=l1\n",
    "l1"
   ]
  },
  {
   "cell_type": "code",
   "execution_count": null,
   "id": "1b5a0091",
   "metadata": {},
   "outputs": [],
   "source": [
    "a"
   ]
  },
  {
   "cell_type": "code",
   "execution_count": null,
   "id": "7d364cf7",
   "metadata": {},
   "outputs": [],
   "source": [
    "a.append(8)"
   ]
  },
  {
   "cell_type": "code",
   "execution_count": null,
   "id": "5829df8e",
   "metadata": {},
   "outputs": [],
   "source": [
    "a"
   ]
  },
  {
   "cell_type": "code",
   "execution_count": null,
   "id": "1aabb6d5",
   "metadata": {},
   "outputs": [],
   "source": [
    "l1"
   ]
  },
  {
   "cell_type": "code",
   "execution_count": null,
   "id": "bf7814ce",
   "metadata": {},
   "outputs": [],
   "source": [
    "a.l1(copy)"
   ]
  },
  {
   "cell_type": "code",
   "execution_count": null,
   "id": "2bc33627",
   "metadata": {},
   "outputs": [],
   "source": [
    "a=l1.copy"
   ]
  },
  {
   "cell_type": "code",
   "execution_count": null,
   "id": "a1fa9594",
   "metadata": {},
   "outputs": [],
   "source": [
    "a"
   ]
  },
  {
   "cell_type": "code",
   "execution_count": null,
   "id": "c94169b5",
   "metadata": {},
   "outputs": [],
   "source": [
    "a=l1.copy()"
   ]
  },
  {
   "cell_type": "code",
   "execution_count": null,
   "id": "9cef4d6a",
   "metadata": {},
   "outputs": [],
   "source": [
    "print(a)"
   ]
  },
  {
   "cell_type": "code",
   "execution_count": null,
   "id": "c1089c46",
   "metadata": {},
   "outputs": [],
   "source": [
    "a.append('hi')"
   ]
  },
  {
   "cell_type": "code",
   "execution_count": null,
   "id": "df604aa8",
   "metadata": {},
   "outputs": [],
   "source": [
    "l1"
   ]
  },
  {
   "cell_type": "code",
   "execution_count": null,
   "id": "b9d91b14",
   "metadata": {},
   "outputs": [],
   "source": [
    "a"
   ]
  },
  {
   "cell_type": "code",
   "execution_count": null,
   "id": "576f3f49",
   "metadata": {},
   "outputs": [],
   "source": [
    "l2=[8,2,4,6]\n",
    "l2.reverse()\n",
    "l2"
   ]
  },
  {
   "cell_type": "code",
   "execution_count": null,
   "id": "c873f774",
   "metadata": {},
   "outputs": [],
   "source": [
    "a=l2[::-1]"
   ]
  },
  {
   "cell_type": "code",
   "execution_count": null,
   "id": "b8c4e1c1",
   "metadata": {},
   "outputs": [],
   "source": [
    "a"
   ]
  },
  {
   "cell_type": "code",
   "execution_count": null,
   "id": "7696fe1f",
   "metadata": {},
   "outputs": [],
   "source": [
    "l2"
   ]
  },
  {
   "cell_type": "code",
   "execution_count": null,
   "id": "bce04686",
   "metadata": {},
   "outputs": [],
   "source": [
    "l2.sort()"
   ]
  },
  {
   "cell_type": "code",
   "execution_count": null,
   "id": "7809f0b5",
   "metadata": {},
   "outputs": [],
   "source": [
    "l2"
   ]
  },
  {
   "cell_type": "code",
   "execution_count": null,
   "id": "ce2fbbfb",
   "metadata": {},
   "outputs": [],
   "source": [
    "l2.sort(reverse=True)\n",
    "l2"
   ]
  },
  {
   "cell_type": "code",
   "execution_count": null,
   "id": "5f42846c",
   "metadata": {},
   "outputs": [],
   "source": [
    "b=min([5,3,9,7,10])\n",
    "b"
   ]
  },
  {
   "cell_type": "code",
   "execution_count": null,
   "id": "f580c0a8",
   "metadata": {},
   "outputs": [],
   "source": [
    "c=max([4,7,1,2,3,10])\n",
    "c"
   ]
  },
  {
   "cell_type": "markdown",
   "id": "53744ef9",
   "metadata": {},
   "source": [
    "# tuple"
   ]
  },
  {
   "cell_type": "code",
   "execution_count": null,
   "id": "a27e18d1",
   "metadata": {},
   "outputs": [],
   "source": [
    "t1=(2,43,5,7,8,9,5,4,2,1,54,7,5,8,2,0,4,2,1,4,5,8,5,0,7,5,4)\n",
    "print(t1[1:6])\n"
   ]
  },
  {
   "cell_type": "code",
   "execution_count": null,
   "id": "256c32b3",
   "metadata": {},
   "outputs": [],
   "source": [
    "print(t1[0:4])"
   ]
  },
  {
   "cell_type": "code",
   "execution_count": null,
   "id": "017920d8",
   "metadata": {},
   "outputs": [],
   "source": [
    "print(t1[4:-2])"
   ]
  },
  {
   "cell_type": "code",
   "execution_count": null,
   "id": "db0e8e1f",
   "metadata": {},
   "outputs": [],
   "source": [
    "print(t1[::-1])"
   ]
  },
  {
   "cell_type": "code",
   "execution_count": null,
   "id": "cb0894c9",
   "metadata": {},
   "outputs": [],
   "source": [
    "s='hai'\n",
    "a=list(s)"
   ]
  },
  {
   "cell_type": "code",
   "execution_count": null,
   "id": "c6407c59",
   "metadata": {},
   "outputs": [],
   "source": [
    "a"
   ]
  },
  {
   "cell_type": "code",
   "execution_count": null,
   "id": "3c5debcc",
   "metadata": {},
   "outputs": [],
   "source": [
    "t=(1,2)\n",
    "b=(5)\n",
    "print(b)"
   ]
  },
  {
   "cell_type": "code",
   "execution_count": null,
   "id": "6e9d09f7",
   "metadata": {},
   "outputs": [],
   "source": [
    "b=(5)\n",
    "print(b)"
   ]
  },
  {
   "cell_type": "code",
   "execution_count": null,
   "id": "e6036d2e",
   "metadata": {},
   "outputs": [],
   "source": [
    "c=(8,)\n",
    "c"
   ]
  },
  {
   "cell_type": "code",
   "execution_count": null,
   "id": "3ee31101",
   "metadata": {},
   "outputs": [],
   "source": [
    "s='hello'\n",
    "d=tuple(s)"
   ]
  },
  {
   "cell_type": "code",
   "execution_count": null,
   "id": "5b439a1a",
   "metadata": {},
   "outputs": [],
   "source": [
    "s"
   ]
  },
  {
   "cell_type": "code",
   "execution_count": null,
   "id": "9f1c4b56",
   "metadata": {},
   "outputs": [],
   "source": [
    "s1='hi'\n",
    "d1=tuple(s1)\n",
    "d1"
   ]
  },
  {
   "cell_type": "code",
   "execution_count": null,
   "id": "28551476",
   "metadata": {},
   "outputs": [],
   "source": [
    "l=[2,3,6]\n",
    "e=tuple(l)\n",
    "e"
   ]
  },
  {
   "cell_type": "code",
   "execution_count": null,
   "id": "73d21461",
   "metadata": {
    "scrolled": true
   },
   "outputs": [],
   "source": []
  },
  {
   "cell_type": "code",
   "execution_count": null,
   "id": "4b394280",
   "metadata": {},
   "outputs": [],
   "source": [
    "t1=(3,4,6,9,7,5,3,2,2)\n",
    "for i in t1:\n",
    "    print(i)"
   ]
  },
  {
   "cell_type": "code",
   "execution_count": null,
   "id": "656198da",
   "metadata": {},
   "outputs": [],
   "source": [
    "t2=(2,3)\n",
    "t3=(9,4)\n",
    "c=(t2+t3)\n",
    "print(c)"
   ]
  },
  {
   "cell_type": "code",
   "execution_count": null,
   "id": "6a7c96a9",
   "metadata": {},
   "outputs": [],
   "source": [
    "d=t3+(6,6)\n",
    "d"
   ]
  },
  {
   "cell_type": "code",
   "execution_count": null,
   "id": "ffe33ac6",
   "metadata": {},
   "outputs": [],
   "source": [
    "t3*3"
   ]
  },
  {
   "cell_type": "code",
   "execution_count": null,
   "id": "70c377f2",
   "metadata": {},
   "outputs": [],
   "source": [
    "print(t1[1:7])"
   ]
  },
  {
   "cell_type": "code",
   "execution_count": null,
   "id": "bd643f50",
   "metadata": {},
   "outputs": [],
   "source": [
    "print (t1[4:-1])"
   ]
  },
  {
   "cell_type": "code",
   "execution_count": null,
   "id": "79c371a5",
   "metadata": {},
   "outputs": [],
   "source": [
    "print(t1[::-1])"
   ]
  },
  {
   "cell_type": "code",
   "execution_count": null,
   "id": "d02bb756",
   "metadata": {},
   "outputs": [],
   "source": [
    "print(t1[::-2])"
   ]
  },
  {
   "cell_type": "code",
   "execution_count": null,
   "id": "3804cfd0",
   "metadata": {},
   "outputs": [],
   "source": [
    "print(t1[2:10:3])"
   ]
  },
  {
   "cell_type": "code",
   "execution_count": null,
   "id": "5caf1615",
   "metadata": {},
   "outputs": [],
   "source": [
    "a=('hi')\n",
    "a"
   ]
  },
  {
   "cell_type": "code",
   "execution_count": null,
   "id": "af700ba1",
   "metadata": {},
   "outputs": [],
   "source": [
    "a.isupper()"
   ]
  },
  {
   "cell_type": "code",
   "execution_count": null,
   "id": "c8ffe858",
   "metadata": {},
   "outputs": [],
   "source": [
    "b=(\"hai\",'jik','ggvfyg')\n",
    "b"
   ]
  },
  {
   "cell_type": "code",
   "execution_count": null,
   "id": "d48220b6",
   "metadata": {},
   "outputs": [],
   "source": [
    "b.count('hi')"
   ]
  },
  {
   "cell_type": "code",
   "execution_count": null,
   "id": "15143ef8",
   "metadata": {},
   "outputs": [],
   "source": [
    "l1=[7.8,\"Hai\",'monday',6.4,'you',2.4]\n",
    "l1"
   ]
  },
  {
   "cell_type": "code",
   "execution_count": null,
   "id": "acc371f7",
   "metadata": {},
   "outputs": [],
   "source": [
    "l1.extend([1,2,3])\n",
    "l1"
   ]
  },
  {
   "cell_type": "code",
   "execution_count": null,
   "id": "1c252022",
   "metadata": {},
   "outputs": [],
   "source": [
    "l1.append(5,)\n",
    "l1"
   ]
  },
  {
   "cell_type": "code",
   "execution_count": null,
   "id": "01538653",
   "metadata": {},
   "outputs": [],
   "source": [
    "t1=(9,8,7,6,5)\n",
    "b=(t1)\n",
    "b"
   ]
  },
  {
   "cell_type": "code",
   "execution_count": null,
   "id": "b980747b",
   "metadata": {},
   "outputs": [],
   "source": [
    "t1=('hi',9,8,7,6,5)\n",
    "t2=(\"hello\",1,2,3,4,5)\n",
    "t3=(t2+t1)\n",
    "t3"
   ]
  },
  {
   "cell_type": "code",
   "execution_count": null,
   "id": "e34cfd4b",
   "metadata": {},
   "outputs": [],
   "source": [
    "c='beautiful'\n",
    "c[3:6]"
   ]
  },
  {
   "cell_type": "code",
   "execution_count": null,
   "id": "6ef80539",
   "metadata": {},
   "outputs": [],
   "source": [
    "t3.count(5)"
   ]
  },
  {
   "cell_type": "code",
   "execution_count": null,
   "id": "e31d56f5",
   "metadata": {},
   "outputs": [],
   "source": [
    "s1='hello'\n",
    "s1.title()"
   ]
  },
  {
   "cell_type": "code",
   "execution_count": null,
   "id": "6d8b4e0a",
   "metadata": {},
   "outputs": [],
   "source": [
    "s='Hai you all'\n",
    "s"
   ]
  },
  {
   "cell_type": "code",
   "execution_count": null,
   "id": "32b29bb0",
   "metadata": {},
   "outputs": [],
   "source": [
    "s.find('you')"
   ]
  },
  {
   "cell_type": "code",
   "execution_count": null,
   "id": "72d3dd0a",
   "metadata": {},
   "outputs": [],
   "source": [
    "s.swapcase()"
   ]
  },
  {
   "cell_type": "code",
   "execution_count": null,
   "id": "733ed8a2",
   "metadata": {},
   "outputs": [],
   "source": [
    "s.reverse()"
   ]
  },
  {
   "cell_type": "code",
   "execution_count": null,
   "id": "8b6ad92c",
   "metadata": {},
   "outputs": [],
   "source": [
    "s.replace('Hai','Hello')"
   ]
  },
  {
   "cell_type": "code",
   "execution_count": null,
   "id": "35eee795",
   "metadata": {},
   "outputs": [],
   "source": [
    "s.split()"
   ]
  },
  {
   "cell_type": "code",
   "execution_count": null,
   "id": "59b1e790",
   "metadata": {},
   "outputs": [],
   "source": [
    "s"
   ]
  },
  {
   "cell_type": "markdown",
   "id": "f49a553b",
   "metadata": {},
   "source": [
    "# set"
   ]
  },
  {
   "cell_type": "code",
   "execution_count": null,
   "id": "25296d88",
   "metadata": {},
   "outputs": [],
   "source": [
    "s=set([1,2,3,4,5,6,7,8,9,10,9,8,7,6,'A',5,4,3,2,1])\n",
    "s"
   ]
  },
  {
   "cell_type": "code",
   "execution_count": null,
   "id": "a8f2c8e8",
   "metadata": {},
   "outputs": [],
   "source": [
    "type(s)"
   ]
  },
  {
   "cell_type": "code",
   "execution_count": null,
   "id": "583ecbc6",
   "metadata": {},
   "outputs": [],
   "source": [
    "h=set([10,11,12,13,100,2,200,3,6,7,8,9,500,800,300,1,4,5,400,600,14,15,16,17,700,20,19,18])\n"
   ]
  },
  {
   "cell_type": "code",
   "execution_count": null,
   "id": "c1b63f50",
   "metadata": {},
   "outputs": [],
   "source": [
    "h"
   ]
  },
  {
   "cell_type": "code",
   "execution_count": null,
   "id": "16cd74f9",
   "metadata": {},
   "outputs": [],
   "source": [
    "h"
   ]
  },
  {
   "cell_type": "code",
   "execution_count": null,
   "id": "9a4e075f",
   "metadata": {},
   "outputs": [],
   "source": [
    "x=set([5,6,7,8])\n",
    "x.add(10)\n",
    "x"
   ]
  },
  {
   "cell_type": "code",
   "execution_count": null,
   "id": "895de175",
   "metadata": {},
   "outputs": [],
   "source": [
    "x.update([1,2,3,4])\n",
    "print(x)"
   ]
  },
  {
   "cell_type": "code",
   "execution_count": null,
   "id": "ad306e50",
   "metadata": {},
   "outputs": [],
   "source": [
    "y=x.copy()\n",
    "print(y)"
   ]
  },
  {
   "cell_type": "code",
   "execution_count": null,
   "id": "7a9d5458",
   "metadata": {},
   "outputs": [],
   "source": [
    "x"
   ]
  },
  {
   "cell_type": "code",
   "execution_count": null,
   "id": "082e853c",
   "metadata": {},
   "outputs": [],
   "source": [
    "y"
   ]
  },
  {
   "cell_type": "code",
   "execution_count": null,
   "id": "4436b0cb",
   "metadata": {},
   "outputs": [],
   "source": [
    "9 in x"
   ]
  },
  {
   "cell_type": "code",
   "execution_count": null,
   "id": "e3ab9fe3",
   "metadata": {},
   "outputs": [],
   "source": [
    "x.add('abc')\n",
    "x"
   ]
  },
  {
   "cell_type": "code",
   "execution_count": null,
   "id": "007699f2",
   "metadata": {},
   "outputs": [],
   "source": [
    "'abc' in x"
   ]
  },
  {
   "cell_type": "code",
   "execution_count": null,
   "id": "7934761f",
   "metadata": {},
   "outputs": [],
   "source": [
    "x.pop()\n",
    "x"
   ]
  },
  {
   "cell_type": "code",
   "execution_count": null,
   "id": "20eb5e4f",
   "metadata": {},
   "outputs": [],
   "source": [
    "x"
   ]
  },
  {
   "cell_type": "code",
   "execution_count": null,
   "id": "461b2490",
   "metadata": {},
   "outputs": [],
   "source": [
    "x.remove(6)\n",
    "x"
   ]
  },
  {
   "cell_type": "code",
   "execution_count": null,
   "id": "3a2d5be4",
   "metadata": {},
   "outputs": [],
   "source": [
    "a=10\n",
    "b=20\n",
    "a+b"
   ]
  },
  {
   "cell_type": "code",
   "execution_count": null,
   "id": "2761a075",
   "metadata": {},
   "outputs": [],
   "source": [
    "a=int(input(\"Enter your first value:\"))\n",
    "b=int(input(\"Enter your second value:\"))\n",
    "c=a+b\n",
    "print(\"ans:\",c)"
   ]
  },
  {
   "cell_type": "code",
   "execution_count": null,
   "id": "d49200b0",
   "metadata": {},
   "outputs": [],
   "source": [
    "d=int(input(\"1st Value:\"))\n",
    "e=int(input('2nd Value:'))\n",
    "f=input(\"Choose your operator:\")\n",
    "if (f=='+'):\n",
    "    print(d+e)\n",
    "elif(f==\"-\"):\n",
    "    print(d-e)\n",
    "elif(f==\"/\"):\n",
    "    print(d/e)\n",
    "else:\n",
    "    print(\"Enter your currect operator!!!\")"
   ]
  },
  {
   "cell_type": "code",
   "execution_count": null,
   "id": "cc8bed95",
   "metadata": {},
   "outputs": [],
   "source": [
    "k=int(input(\"Enter your purchase amount:\"))\n",
    "if(k>1500):\n",
    "    l=((k*20)/100)\n",
    "    print(\"Your discount amount is:\",(l))\n",
    "    print(\"You have to pay:\",(k-l))\n",
    "else:\n",
    "    print(\"Sorry. You have no discount!!!\")\n",
    "    print(\"You have to pay:\",k)\n",
    "    "
   ]
  },
  {
   "cell_type": "code",
   "execution_count": null,
   "id": "37ceae35",
   "metadata": {},
   "outputs": [],
   "source": [
    "# Odd or Even\n",
    "a=int(input('Enter the value'))\n",
    "if a%2==0:\n",
    "    print(\"It is even number\")\n",
    "else:\n",
    "    print(\"It is odd number\")"
   ]
  },
  {
   "cell_type": "code",
   "execution_count": null,
   "id": "e2ac32ae",
   "metadata": {},
   "outputs": [],
   "source": [
    "# positive or negative\n",
    "b=int(input(\"Enter the value\"))\n",
    "if b>0:\n",
    "    print(\"It is positive number\")\n",
    "elif(b==0):\n",
    "    print(\"It is zero\")\n",
    "else:\n",
    "    print(\"It is negative number\")"
   ]
  },
  {
   "cell_type": "code",
   "execution_count": null,
   "id": "28608c9a",
   "metadata": {},
   "outputs": [],
   "source": [
    "# mark and grade\n",
    "s1=int(input(\"1st subject mark:\"))\n",
    "s2=int(input(\"2nd subject mark:\"))\n",
    "s3=int(input(\"3rd subject mark:\"))\n",
    "s4=int(input(\"4th subject mark:\"))\n",
    "s5=int(input(\"5th subject mark:\"))\n",
    "sm=s1+s2+s3+s4+s5\n",
    "if (sm>=450):\n",
    "    print(\"A+\")\n",
    "elif(sm>=400 and sm <450):\n",
    "    print(\"A\")\n",
    "if (sm>=350 and sm<400):\n",
    "    print(\"B+\")\n",
    "elif(sm>=300 and sm <350):\n",
    "    print(\"B\")\n",
    "if (sm>=250 and sm<300):\n",
    "    print(\"C+\")\n",
    "elif(sm>=200 and sm<250):\n",
    "    print(\"C\")\n",
    "if (sm>=150 and sm<200):\n",
    "    print(\"D+\")\n",
    "elif(sm<=150):\n",
    "    print(\"You are failed!!!\")"
   ]
  },
  {
   "cell_type": "code",
   "execution_count": null,
   "id": "02e971dc",
   "metadata": {},
   "outputs": [],
   "source": [
    "s1={1,2,3,4,5}\n",
    "s2={1,2,6,7,8,9}\n",
    "s1"
   ]
  },
  {
   "cell_type": "code",
   "execution_count": null,
   "id": "ab6945a9",
   "metadata": {},
   "outputs": [],
   "source": [
    "s2"
   ]
  },
  {
   "cell_type": "code",
   "execution_count": null,
   "id": "b0376cae",
   "metadata": {},
   "outputs": [],
   "source": [
    "s1.union(s2)"
   ]
  },
  {
   "cell_type": "code",
   "execution_count": null,
   "id": "851dd238",
   "metadata": {},
   "outputs": [],
   "source": [
    "s1.intersection(s2)"
   ]
  },
  {
   "cell_type": "code",
   "execution_count": null,
   "id": "5cb96c00",
   "metadata": {},
   "outputs": [],
   "source": [
    "s2.difference(s1)"
   ]
  },
  {
   "cell_type": "markdown",
   "id": "c2fa6160",
   "metadata": {},
   "source": [
    "# Dictionary"
   ]
  },
  {
   "cell_type": "code",
   "execution_count": 5,
   "id": "dfa5b03c",
   "metadata": {},
   "outputs": [
    {
     "name": "stdout",
     "output_type": "stream",
     "text": [
      "{1: 'hai', 2: 2.5, 'age': 18}\n"
     ]
    }
   ],
   "source": [
    "d={1:'hai',2:2.5,\"age\":18}\n",
    "d1={'name':'abi',\"address\":\"vadakara\"}\n",
    "print(d)"
   ]
  },
  {
   "cell_type": "code",
   "execution_count": 6,
   "id": "0453021a",
   "metadata": {},
   "outputs": [
    {
     "name": "stdout",
     "output_type": "stream",
     "text": [
      "{'name': 'abi', 'address': 'vadakara'}\n"
     ]
    }
   ],
   "source": [
    "print(d1)"
   ]
  },
  {
   "cell_type": "code",
   "execution_count": 7,
   "id": "24cc4fb5",
   "metadata": {},
   "outputs": [
    {
     "data": {
      "text/plain": [
       "2.5"
      ]
     },
     "execution_count": 7,
     "metadata": {},
     "output_type": "execute_result"
    }
   ],
   "source": [
    "d[2]"
   ]
  },
  {
   "cell_type": "code",
   "execution_count": 8,
   "id": "443fc920",
   "metadata": {},
   "outputs": [],
   "source": [
    "d1['place']='munnar'"
   ]
  },
  {
   "cell_type": "code",
   "execution_count": 9,
   "id": "74403dee",
   "metadata": {},
   "outputs": [
    {
     "data": {
      "text/plain": [
       "{'name': 'abi', 'address': 'vadakara', 'place': 'munnar'}"
      ]
     },
     "execution_count": 9,
     "metadata": {},
     "output_type": "execute_result"
    }
   ],
   "source": [
    "d1"
   ]
  },
  {
   "cell_type": "code",
   "execution_count": 13,
   "id": "241024ea",
   "metadata": {},
   "outputs": [
    {
     "ename": "SyntaxError",
     "evalue": "invalid syntax (1465390033.py, line 1)",
     "output_type": "error",
     "traceback": [
      "\u001b[1;36m  Input \u001b[1;32mIn [13]\u001b[1;36m\u001b[0m\n\u001b[1;33m    del.d['address']\u001b[0m\n\u001b[1;37m       ^\u001b[0m\n\u001b[1;31mSyntaxError\u001b[0m\u001b[1;31m:\u001b[0m invalid syntax\n"
     ]
    }
   ],
   "source": [
    "deld['address']\n",
    "print(d)"
   ]
  },
  {
   "cell_type": "code",
   "execution_count": null,
   "id": "842263a0",
   "metadata": {},
   "outputs": [],
   "source": []
  }
 ],
 "metadata": {
  "kernelspec": {
   "display_name": "Python 3 (ipykernel)",
   "language": "python",
   "name": "python3"
  },
  "language_info": {
   "codemirror_mode": {
    "name": "ipython",
    "version": 3
   },
   "file_extension": ".py",
   "mimetype": "text/x-python",
   "name": "python",
   "nbconvert_exporter": "python",
   "pygments_lexer": "ipython3",
   "version": "3.9.12"
  }
 },
 "nbformat": 4,
 "nbformat_minor": 5
}
