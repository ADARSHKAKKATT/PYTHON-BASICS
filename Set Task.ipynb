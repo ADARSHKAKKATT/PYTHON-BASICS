{
 "cells": [
  {
   "cell_type": "code",
   "execution_count": null,
   "id": "616c4c5c",
   "metadata": {},
   "outputs": [],
   "source": [
    "s1={1,2,3,4,5,6,7}\n",
    "s1"
   ]
  },
  {
   "cell_type": "code",
   "execution_count": null,
   "id": "a7f5230c",
   "metadata": {},
   "outputs": [],
   "source": [
    "for i in s1:\n",
    "    print(i)\n"
   ]
  },
  {
   "cell_type": "code",
   "execution_count": null,
   "id": "c87bd8c0",
   "metadata": {},
   "outputs": [],
   "source": [
    "s1.add('abc')\n",
    "print(s1)"
   ]
  },
  {
   "cell_type": "code",
   "execution_count": null,
   "id": "0df0a991",
   "metadata": {},
   "outputs": [],
   "source": [
    "s1.remove(3)\n",
    "print(s1)"
   ]
  },
  {
   "cell_type": "code",
   "execution_count": null,
   "id": "9a5d01c7",
   "metadata": {},
   "outputs": [],
   "source": [
    "s2={5,6,7,8,'xyz','kkk',2.5}\n",
    "s2"
   ]
  },
  {
   "cell_type": "code",
   "execution_count": null,
   "id": "54d5b3a0",
   "metadata": {},
   "outputs": [],
   "source": [
    "s1.intersection(s2)"
   ]
  },
  {
   "cell_type": "code",
   "execution_count": null,
   "id": "e88c5669",
   "metadata": {},
   "outputs": [],
   "source": [
    "s2.union(s1)"
   ]
  },
  {
   "cell_type": "code",
   "execution_count": null,
   "id": "b17f6592",
   "metadata": {},
   "outputs": [],
   "source": [
    "s1.difference(s2)"
   ]
  },
  {
   "cell_type": "code",
   "execution_count": null,
   "id": "bd88a7cf",
   "metadata": {},
   "outputs": [],
   "source": [
    "s1.issubset(s2)"
   ]
  },
  {
   "cell_type": "code",
   "execution_count": null,
   "id": "ca61596d",
   "metadata": {},
   "outputs": [],
   "source": [
    "s2.issubset(s1)"
   ]
  },
  {
   "cell_type": "code",
   "execution_count": null,
   "id": "5fdf018c",
   "metadata": {},
   "outputs": [],
   "source": [
    "x=s1.copy()\n",
    "print(x)"
   ]
  },
  {
   "cell_type": "code",
   "execution_count": null,
   "id": "c87b6429",
   "metadata": {},
   "outputs": [],
   "source": [
    "s1"
   ]
  },
  {
   "cell_type": "code",
   "execution_count": null,
   "id": "af6ff993",
   "metadata": {},
   "outputs": [],
   "source": [
    "s2.clear()\n",
    "s2"
   ]
  },
  {
   "cell_type": "code",
   "execution_count": null,
   "id": "391bdd1b",
   "metadata": {},
   "outputs": [],
   "source": [
    "len(s1)"
   ]
  },
  {
   "cell_type": "code",
   "execution_count": null,
   "id": "2039b29d",
   "metadata": {},
   "outputs": [],
   "source": [
    "s3={'a','b','c','d'}\n",
    "s3"
   ]
  },
  {
   "cell_type": "code",
   "execution_count": null,
   "id": "29a898ae",
   "metadata": {},
   "outputs": [],
   "source": [
    "s3.intersection(s1)"
   ]
  },
  {
   "cell_type": "code",
   "execution_count": null,
   "id": "8ee93171",
   "metadata": {},
   "outputs": [],
   "source": [
    "s1.intersection(s3)"
   ]
  },
  {
   "cell_type": "code",
   "execution_count": null,
   "id": "fe893cea",
   "metadata": {},
   "outputs": [],
   "source": [
    "d1={1:'one',2:'two',3:'three'}\n",
    "print(d1)"
   ]
  },
  {
   "cell_type": "code",
   "execution_count": null,
   "id": "6e9b563f",
   "metadata": {},
   "outputs": [],
   "source": [
    "d1[4]='four'\n",
    "print(d1)"
   ]
  },
  {
   "cell_type": "code",
   "execution_count": null,
   "id": "66785443",
   "metadata": {},
   "outputs": [],
   "source": [
    "d1[5]=\"five\"\n",
    "print(d1)"
   ]
  },
  {
   "cell_type": "code",
   "execution_count": null,
   "id": "742e3c78",
   "metadata": {},
   "outputs": [],
   "source": [
    "d1.keys()"
   ]
  },
  {
   "cell_type": "code",
   "execution_count": 1,
   "id": "6330fca9",
   "metadata": {},
   "outputs": [
    {
     "data": {
      "text/plain": [
       "{1: 5, 2: 6, 3: 7, 4: 8}"
      ]
     },
     "execution_count": 1,
     "metadata": {},
     "output_type": "execute_result"
    }
   ],
   "source": [
    "d2={1:5,2:6,3:7,4:8}\n",
    "d2"
   ]
  },
  {
   "cell_type": "code",
   "execution_count": null,
   "id": "ee7859a9",
   "metadata": {},
   "outputs": [],
   "source": []
  },
  {
   "cell_type": "code",
   "execution_count": 2,
   "id": "8a9ce2b2",
   "metadata": {},
   "outputs": [
    {
     "name": "stdout",
     "output_type": "stream",
     "text": [
      "dict_values([5, 6, 7, 8])\n"
     ]
    }
   ],
   "source": [
    "v=d2.values()\n",
    "print(v)"
   ]
  },
  {
   "cell_type": "code",
   "execution_count": null,
   "id": "ffc350db",
   "metadata": {},
   "outputs": [],
   "source": []
  },
  {
   "cell_type": "code",
   "execution_count": 12,
   "id": "f5ffcee8",
   "metadata": {},
   "outputs": [
    {
     "name": "stdout",
     "output_type": "stream",
     "text": [
      "26\n"
     ]
    }
   ],
   "source": [
    "for i in v:\n",
    "    sm=sum(v)\n",
    "print(sm)"
   ]
  },
  {
   "cell_type": "code",
   "execution_count": 19,
   "id": "720a657d",
   "metadata": {},
   "outputs": [
    {
     "name": "stdout",
     "output_type": "stream",
     "text": [
      "1680\n"
     ]
    }
   ],
   "source": [
    "d3=v\n",
    "sm=1\n",
    "for i in d3:\n",
    "    sm=sm*i\n",
    "print(sm)"
   ]
  },
  {
   "cell_type": "code",
   "execution_count": 23,
   "id": "6d496a16",
   "metadata": {},
   "outputs": [
    {
     "data": {
      "text/plain": [
       "{1: 5, 3: 7, 4: 8}"
      ]
     },
     "execution_count": 23,
     "metadata": {},
     "output_type": "execute_result"
    }
   ],
   "source": [
    "d2"
   ]
  },
  {
   "cell_type": "code",
   "execution_count": null,
   "id": "1791cb0a",
   "metadata": {},
   "outputs": [],
   "source": []
  }
 ],
 "metadata": {
  "kernelspec": {
   "display_name": "Python 3 (ipykernel)",
   "language": "python",
   "name": "python3"
  },
  "language_info": {
   "codemirror_mode": {
    "name": "ipython",
    "version": 3
   },
   "file_extension": ".py",
   "mimetype": "text/x-python",
   "name": "python",
   "nbconvert_exporter": "python",
   "pygments_lexer": "ipython3",
   "version": "3.9.12"
  }
 },
 "nbformat": 4,
 "nbformat_minor": 5
}
