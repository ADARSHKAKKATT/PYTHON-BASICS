{
 "cells": [
  {
   "cell_type": "code",
   "execution_count": 1,
   "id": "d2b0574f",
   "metadata": {},
   "outputs": [
    {
     "name": "stdout",
     "output_type": "stream",
     "text": [
      "Hai\n"
     ]
    }
   ],
   "source": [
    "def example():\n",
    "    print('Hai')\n",
    "    \n",
    "    \n",
    "example()"
   ]
  },
  {
   "cell_type": "code",
   "execution_count": 2,
   "id": "8e5f764d",
   "metadata": {},
   "outputs": [
    {
     "name": "stdout",
     "output_type": "stream",
     "text": [
      "7\n"
     ]
    }
   ],
   "source": [
    "def some(a,b):\n",
    "    print(a+b)\n",
    "    \n",
    "    \n",
    "some(5,2)"
   ]
  },
  {
   "cell_type": "code",
   "execution_count": 4,
   "id": "ee576cee",
   "metadata": {},
   "outputs": [
    {
     "name": "stdout",
     "output_type": "stream",
     "text": [
      "abi\n",
      "25\n"
     ]
    }
   ],
   "source": [
    "def stud(name,age):\n",
    "    print(name)\n",
    "    print(age)\n",
    "    \n",
    "    \n",
    "stud(\"abi\",25)"
   ]
  },
  {
   "cell_type": "code",
   "execution_count": 11,
   "id": "7ffea58b",
   "metadata": {},
   "outputs": [
    {
     "name": "stdout",
     "output_type": "stream",
     "text": [
      "Hello adarsh How are you\n"
     ]
    }
   ],
   "source": [
    "#default parameter\n",
    "def wish(name, msg='How are you'):\n",
    "    print(\"Hello\",name+\" \"+msg)\n",
    "    \n",
    "    \n",
    "wish(\"adarsh\")"
   ]
  },
  {
   "cell_type": "code",
   "execution_count": 12,
   "id": "5ed7ca69",
   "metadata": {},
   "outputs": [
    {
     "name": "stdout",
     "output_type": "stream",
     "text": [
      "Hello adarsh good morning\n"
     ]
    }
   ],
   "source": [
    "wish(\"adarsh\",\"good morning\")"
   ]
  },
  {
   "cell_type": "code",
   "execution_count": 13,
   "id": "dad99fb4",
   "metadata": {},
   "outputs": [
    {
     "name": "stdout",
     "output_type": "stream",
     "text": [
      "adarsh\n",
      "20\n"
     ]
    }
   ],
   "source": [
    "def student(name,age):\n",
    "    print(name)\n",
    "    print(age)\n",
    "    \n",
    "student(age=20,name=\"adarsh\")"
   ]
  },
  {
   "cell_type": "code",
   "execution_count": 14,
   "id": "a646e9c8",
   "metadata": {},
   "outputs": [
    {
     "name": "stdout",
     "output_type": "stream",
     "text": [
      "adarsh\n",
      "20\n"
     ]
    }
   ],
   "source": [
    "student('adarsh',age=20)"
   ]
  },
  {
   "cell_type": "code",
   "execution_count": 16,
   "id": "2990621d",
   "metadata": {},
   "outputs": [
    {
     "ename": "SyntaxError",
     "evalue": "positional argument follows keyword argument (941698904.py, line 1)",
     "output_type": "error",
     "traceback": [
      "\u001b[1;36m  Input \u001b[1;32mIn [16]\u001b[1;36m\u001b[0m\n\u001b[1;33m    student(age=20,\"adarsh\")\u001b[0m\n\u001b[1;37m                           ^\u001b[0m\n\u001b[1;31mSyntaxError\u001b[0m\u001b[1;31m:\u001b[0m positional argument follows keyword argument\n"
     ]
    }
   ],
   "source": [
    "#position argument and keyword argument are different\n",
    "student(age=20,\"adarsh\")"
   ]
  },
  {
   "cell_type": "code",
   "execution_count": null,
   "id": "155b9f2a",
   "metadata": {},
   "outputs": [],
   "source": []
  }
 ],
 "metadata": {
  "kernelspec": {
   "display_name": "Python 3 (ipykernel)",
   "language": "python",
   "name": "python3"
  },
  "language_info": {
   "codemirror_mode": {
    "name": "ipython",
    "version": 3
   },
   "file_extension": ".py",
   "mimetype": "text/x-python",
   "name": "python",
   "nbconvert_exporter": "python",
   "pygments_lexer": "ipython3",
   "version": "3.9.12"
  }
 },
 "nbformat": 4,
 "nbformat_minor": 5
}
