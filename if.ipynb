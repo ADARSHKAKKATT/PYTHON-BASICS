{
 "cells": [
  {
   "cell_type": "code",
   "execution_count": 1,
   "id": "a9e1854f",
   "metadata": {},
   "outputs": [
    {
     "name": "stdout",
     "output_type": "stream",
     "text": [
      "Enter your purchase amount:4500\n",
      "Your discount amount is: 900.0\n",
      "You have to pay: 3600.0\n"
     ]
    }
   ],
   "source": [
    "k=int(input(\"Enter your purchase amount:\"))\n",
    "if(k>1500):\n",
    "    l=((k*20)/100)\n",
    "    print(\"Your discount amount is:\",(l))\n",
    "    print(\"You have to pay:\",(k-l))\n",
    "else:\n",
    "    print(\"Sorry. You have no discount!!!\")\n",
    "    print(\"You have to pay:\",k)\n",
    "    "
   ]
  },
  {
   "cell_type": "code",
   "execution_count": null,
   "id": "69b24c8d",
   "metadata": {},
   "outputs": [],
   "source": []
  }
 ],
 "metadata": {
  "kernelspec": {
   "display_name": "Python 3 (ipykernel)",
   "language": "python",
   "name": "python3"
  },
  "language_info": {
   "codemirror_mode": {
    "name": "ipython",
    "version": 3
   },
   "file_extension": ".py",
   "mimetype": "text/x-python",
   "name": "python",
   "nbconvert_exporter": "python",
   "pygments_lexer": "ipython3",
   "version": "3.9.12"
  }
 },
 "nbformat": 4,
 "nbformat_minor": 5
}
