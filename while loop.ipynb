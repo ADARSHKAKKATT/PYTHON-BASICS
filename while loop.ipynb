{
 "cells": [
  {
   "cell_type": "code",
   "execution_count": null,
   "id": "39ddcdb2",
   "metadata": {},
   "outputs": [],
   "source": [
    "#fibonaci using while\n",
    "nterms=int(input(\"How many numbers:\"))\n",
    "n1=0\n",
    "n2=1\n",
    "count=0\n",
    "if nterms<=0:\n",
    "    print(\"Please enter a positive integer!!!\")\n",
    "elif nterms==1:\n",
    "    print(\"Fibonacci sequence upto\",nterms)\n",
    "    print(n1)\n",
    "else:\n",
    "    while count<nterms:\n",
    "        print(n1)\n",
    "        nth=n1+n2\n",
    "        n1=n2\n",
    "        n2=nth\n",
    "        count+=1"
   ]
  },
  {
   "cell_type": "code",
   "execution_count": null,
   "id": "d843ba4d",
   "metadata": {},
   "outputs": [],
   "source": []
  },
  {
   "cell_type": "code",
   "execution_count": null,
   "id": "8b3f0f89",
   "metadata": {},
   "outputs": [],
   "source": [
    "#reverse of number using while loop\n",
    "num = 1234\n",
    "reversed_num = 0\n",
    "\n",
    "while num != 0:\n",
    "    digit = num % 10\n",
    "    reversed_num = reversed_num * 10 + digit\n",
    "    num //= 10\n",
    "\n",
    "print(\"Reversed Number: \" + str(reversed_num))"
   ]
  },
  {
   "cell_type": "code",
   "execution_count": null,
   "id": "c8297692",
   "metadata": {},
   "outputs": [],
   "source": [
    "#armstrong number\n",
    "nm=int(input(\"Enter the number: \"))\n",
    "arm_n=0\n",
    "while nm !=0:\n",
    "    dg=nm%10\n",
    "    arm_n=arm_n+dg**3\n",
    "    nm//=10\n",
    "print(str(arm_n)+\" is an armstrong number\")"
   ]
  },
  {
   "cell_type": "code",
   "execution_count": null,
   "id": "3847e094",
   "metadata": {},
   "outputs": [],
   "source": [
    "#factorial using while\n",
    "ft=int(input(\"Enter the number:\"))\n",
    "var=1\n",
    "while ft!=0:\n",
    "    var=var*ft\n",
    "    ft=ft-1\n",
    "print(var)"
   ]
  },
  {
   "cell_type": "code",
   "execution_count": null,
   "id": "629be69d",
   "metadata": {},
   "outputs": [],
   "source": [
    "#sum of natural numbers\n",
    "nm=int(input(\"Enter the limit: \"))\n",
    "sm=0\n",
    "while nm>0:\n",
    "    sm=sm+nm\n",
    "    nm=nm-1\n",
    "print(sm)"
   ]
  },
  {
   "cell_type": "code",
   "execution_count": null,
   "id": "b0c55ad3",
   "metadata": {},
   "outputs": [],
   "source": [
    "#sum of digits\n",
    "number=int(input('Enter the number'))\n",
    "sum1=0\n",
    "while number>0:\n",
    "    varr=number%10\n",
    "    sum1=varr+sum1\n",
    "    number=number//10\n",
    "print(sum1)"
   ]
  },
  {
   "cell_type": "code",
   "execution_count": 2,
   "id": "19e3ab9c",
   "metadata": {},
   "outputs": [
    {
     "name": "stdout",
     "output_type": "stream",
     "text": [
      "Enter the limit: 2\n",
      "Enter the last limit: 14\n",
      "[2, 4, 6, 8, 10, 12, 14]\n"
     ]
    }
   ],
   "source": [
    "#print even number in list format in a limit\n",
    "a=int(input(\"Enter the limit: \"))\n",
    "b=int(input(\"Enter the last limit: \"))\n",
    "c=[]\n",
    "while a<=b:\n",
    "    if a%2==0:\n",
    "        c.append(a)\n",
    "        a=a+1\n",
    "    else:\n",
    "        a=a+1\n",
    "print(c)"
   ]
  },
  {
   "cell_type": "code",
   "execution_count": null,
   "id": "b7aea62f",
   "metadata": {},
   "outputs": [],
   "source": []
  }
 ],
 "metadata": {
  "kernelspec": {
   "display_name": "Python 3 (ipykernel)",
   "language": "python",
   "name": "python3"
  },
  "language_info": {
   "codemirror_mode": {
    "name": "ipython",
    "version": 3
   },
   "file_extension": ".py",
   "mimetype": "text/x-python",
   "name": "python",
   "nbconvert_exporter": "python",
   "pygments_lexer": "ipython3",
   "version": "3.9.12"
  }
 },
 "nbformat": 4,
 "nbformat_minor": 5
}
