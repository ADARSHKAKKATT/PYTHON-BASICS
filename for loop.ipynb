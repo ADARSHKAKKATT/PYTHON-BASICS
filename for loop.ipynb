{
 "cells": [
  {
   "cell_type": "code",
   "execution_count": null,
   "id": "a2d17ea1",
   "metadata": {},
   "outputs": [],
   "source": [
    "for i in range(0,11):\n",
    "    print(i)"
   ]
  },
  {
   "cell_type": "code",
   "execution_count": null,
   "id": "55a03618",
   "metadata": {},
   "outputs": [],
   "source": [
    "#even numbers\n",
    "for i in range (1,21):\n",
    "    if(i%2==0):\n",
    "        print(i)"
   ]
  },
  {
   "cell_type": "code",
   "execution_count": null,
   "id": "2c2e23b1",
   "metadata": {},
   "outputs": [],
   "source": [
    "#odd numbers\n",
    "for i in range(0,21):\n",
    "    if (i%2!=0):\n",
    "        print(i)"
   ]
  },
  {
   "cell_type": "code",
   "execution_count": null,
   "id": "ac407d24",
   "metadata": {},
   "outputs": [],
   "source": [
    "#sum of even numbers\n",
    "sm=0\n",
    "for i in range(0,21):\n",
    "    if(i%2==0):\n",
    "        sm=sm+i\n",
    "print(sm)"
   ]
  },
  {
   "cell_type": "code",
   "execution_count": null,
   "id": "23f9ef37",
   "metadata": {},
   "outputs": [],
   "source": [
    "#sum of even numbers limit is given by user\n",
    "a=int(input(\"Enter the starting limit:\"))\n",
    "b=int(input(\"Enter the ending limit:\"))\n",
    "sm=0\n",
    "for i in range(a,b):\n",
    "    if(i%2==0):\n",
    "        sm=sm+i\n",
    "print(sm)"
   ]
  },
  {
   "cell_type": "code",
   "execution_count": null,
   "id": "b37c92db",
   "metadata": {},
   "outputs": [],
   "source": [
    "#sum of even and odd numbers limit is given by user\n",
    "c=int(input(\"Enter the starting limit:\"))\n",
    "d=int(input(\"Enter the ending limit:\"))\n",
    "sm1=0\n",
    "sm2=0\n",
    "for i in range(c,d+1):\n",
    "    if(i%2==0):\n",
    "        sm1=sm1+i\n",
    "    if(i%2!=0):\n",
    "        sm2=sm2+i\n",
    "print(\"Sum of even numbers:\",sm1)\n",
    "print('Sum of odd numbers:',sm2)"
   ]
  },
  {
   "cell_type": "code",
   "execution_count": null,
   "id": "1af2fd6d",
   "metadata": {},
   "outputs": [],
   "source": [
    "#even numbers without calculation/given in range\n",
    "for i in range(2,10,2):\n",
    "    print(i)"
   ]
  },
  {
   "cell_type": "code",
   "execution_count": null,
   "id": "60989bee",
   "metadata": {},
   "outputs": [],
   "source": [
    "#factorial in a range\n",
    "fact=1\n",
    "e=int(input(\"Enter the starting limit except zero:\"))\n",
    "f=int(input(\"Enter the ending limit:\"))\n",
    "for i in range(e,f+1):\n",
    "    fact=fact*i\n",
    "print(fact)"
   ]
  },
  {
   "cell_type": "code",
   "execution_count": null,
   "id": "38091921",
   "metadata": {},
   "outputs": [],
   "source": [
    "#fibonacci series\n",
    "c=int(input(\"Enter the limit:\"))\n",
    "a=0\n",
    "b=1\n",
    "print(b)\n",
    "for i in range(1,c+1):\n",
    "    sum=a+b\n",
    "    print(sum)\n",
    "    a=b\n",
    "    b=sum\n",
    "   "
   ]
  },
  {
   "cell_type": "code",
   "execution_count": null,
   "id": "f76f1e49",
   "metadata": {},
   "outputs": [],
   "source": [
    "e=int(input(\"Enter value:\"))\n",
    "c=0\n",
    "d=1\n",
    "print(d)\n",
    "for i in range(1,e+1):\n",
    "    sum=c+d\n",
    "    print(sum)\n",
    "    c=d\n",
    "    d=sum"
   ]
  },
  {
   "cell_type": "code",
   "execution_count": 5,
   "id": "e2428c9a",
   "metadata": {},
   "outputs": [
    {
     "name": "stdout",
     "output_type": "stream",
     "text": [
      "25\n"
     ]
    }
   ],
   "source": [
    "#sum of list elements\n",
    "a=[3,6,9,2,5]\n",
    "sm=0\n",
    "for i in a:\n",
    "    #print(i)\n",
    "    sm=sm+i\n",
    "print(sm)"
   ]
  },
  {
   "cell_type": "code",
   "execution_count": null,
   "id": "196b0354",
   "metadata": {},
   "outputs": [],
   "source": [
    "p=['apple','ball','cat','dance']\n",
    "print(p)"
   ]
  },
  {
   "cell_type": "code",
   "execution_count": null,
   "id": "0cbf8e6b",
   "metadata": {},
   "outputs": [],
   "source": [
    "for i in range(0,10):\n",
    "    if(i==5):\n",
    "        break\n",
    "    print(i)"
   ]
  },
  {
   "cell_type": "code",
   "execution_count": null,
   "id": "56f7336d",
   "metadata": {},
   "outputs": [],
   "source": [
    "for i in range(10):\n",
    "    if i%2==0:\n",
    "        continue\n",
    "    print(i)\n",
    "print(\"end\")"
   ]
  },
  {
   "cell_type": "code",
   "execution_count": null,
   "id": "3bfd8441",
   "metadata": {},
   "outputs": [],
   "source": [
    "#prime number1\n",
    "n=int(input(\"enter number\"))\n",
    "flag=True\n",
    "for div in range(2,n):\n",
    "    if n%div==0:\n",
    "        flag=False\n",
    "        break\n",
    "    print(\"div=\",div)\n",
    "    print(\"Prime\"if flag==0 else\"Not prime\")"
   ]
  },
  {
   "cell_type": "code",
   "execution_count": null,
   "id": "e2dee5e7",
   "metadata": {},
   "outputs": [],
   "source": [
    "#prime number2\n",
    "n=int(input(\"Enter the value\"))\n",
    "for div in range(2,n):\n",
    "    if n%div==0:\n",
    "        print(\"Not prime number Divisible by\",div)\n",
    "        break\n",
    "    else:\n",
    "        print(\"Prime\")"
   ]
  },
  {
   "cell_type": "code",
   "execution_count": null,
   "id": "43e44955",
   "metadata": {},
   "outputs": [],
   "source": [
    "n=1\n",
    "if n<4:\n",
    "    pass"
   ]
  },
  {
   "cell_type": "code",
   "execution_count": null,
   "id": "c973df7b",
   "metadata": {},
   "outputs": [],
   "source": []
  },
  {
   "cell_type": "code",
   "execution_count": null,
   "id": "e616861e",
   "metadata": {},
   "outputs": [],
   "source": []
  },
  {
   "cell_type": "code",
   "execution_count": null,
   "id": "a69b7b16",
   "metadata": {},
   "outputs": [],
   "source": []
  },
  {
   "cell_type": "code",
   "execution_count": null,
   "id": "663dbe69",
   "metadata": {},
   "outputs": [],
   "source": []
  }
 ],
 "metadata": {
  "kernelspec": {
   "display_name": "Python 3 (ipykernel)",
   "language": "python",
   "name": "python3"
  },
  "language_info": {
   "codemirror_mode": {
    "name": "ipython",
    "version": 3
   },
   "file_extension": ".py",
   "mimetype": "text/x-python",
   "name": "python",
   "nbconvert_exporter": "python",
   "pygments_lexer": "ipython3",
   "version": "3.9.12"
  }
 },
 "nbformat": 4,
 "nbformat_minor": 5
}
